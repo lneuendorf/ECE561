{
 "cells": [
  {
   "cell_type": "markdown",
   "id": "721cb213-8b51-4aa8-8fb1-6604b7df97f2",
   "metadata": {},
   "source": [
    "## Week 1 Homework - Python and Numpy\n",
    "## By Luke Neuendorf\n",
    "***"
   ]
  },
  {
   "cell_type": "markdown",
   "id": "d963cac5-2e3a-4f01-88a2-71a0c7c2125b",
   "metadata": {},
   "source": [
    "#### 2a)"
   ]
  },
  {
   "cell_type": "code",
   "execution_count": 7,
   "id": "aa708d61-0dbd-44f9-b552-3ea78204aea3",
   "metadata": {},
   "outputs": [
    {
     "name": "stdout",
     "output_type": "stream",
     "text": [
      "['this', 'deluge', 'of', 'data', 'calls', 'for', 'automated', 'methods', 'of', 'data', 'analysis', 'which', 'is', 'what', 'machine', 'learning', 'provides', 'in', 'particular', 'we', 'define', 'machine', 'learning', 'as', 'a', 'set', 'of', 'methods', 'that', 'can', 'automatically', 'detect', 'patterns', 'in', 'data', 'and', 'then', 'use', 'the', 'uncovered', 'patterns', 'to', 'predict', 'future', 'data', 'or', 'to', 'perform', 'other', 'kinds', 'of', 'decision', 'making', 'under', 'uncertainty']\n"
     ]
    }
   ],
   "source": [
    "in_string = \"\"\"this deluge of data calls for automated methods of data analysis\n",
    "which is what machine learning provides in particular we define machine learning\n",
    "as a set of methods that can automatically detect patterns in data and then use\n",
    "the uncovered patterns to predict future data or to perform other kinds of decision\n",
    "making under uncertainty\"\"\"\n",
    "\n",
    "list_of_strings = in_string.split()\n",
    "print(list_of_strings)"
   ]
  },
  {
   "cell_type": "markdown",
   "id": "21c7a675-7ea5-48cc-8244-4fff566a7bae",
   "metadata": {},
   "source": [
    "#### 2b)"
   ]
  },
  {
   "cell_type": "code",
   "execution_count": 11,
   "id": "a21da10e-f20b-497e-9566-5b3665c3b585",
   "metadata": {},
   "outputs": [
    {
     "name": "stdout",
     "output_type": "stream",
     "text": [
      "['of', 'for', 'of', 'which', 'machine', 'in', 'define', 'as', 'of', 'can', 'patterns', 'and', 'the', 'to', 'data', 'perform', 'of', 'under']\n"
     ]
    }
   ],
   "source": [
    "new_list = list_of_strings[2::3]\n",
    "print(new_list)"
   ]
  },
  {
   "cell_type": "markdown",
   "id": "4ba76c5a-4121-4cf2-9685-5b13f9187b79",
   "metadata": {},
   "source": [
    "#### 2c)"
   ]
  },
  {
   "cell_type": "code",
   "execution_count": 12,
   "id": "f6f06cd5-d547-422d-8560-f3c6f1629634",
   "metadata": {},
   "outputs": [
    {
     "name": "stdout",
     "output_type": "stream",
     "text": [
      "uncovered\n"
     ]
    }
   ],
   "source": [
    "print(list_of_strings[-16])"
   ]
  },
  {
   "cell_type": "markdown",
   "id": "131f2ae1-16a6-4d1c-a360-b6b08258dec0",
   "metadata": {},
   "source": [
    "#### 2d)"
   ]
  },
  {
   "cell_type": "code",
   "execution_count": 14,
   "id": "fa5aab39-3ab9-4663-b5f4-081b3daf3085",
   "metadata": {},
   "outputs": [
    {
     "name": "stdout",
     "output_type": "stream",
     "text": [
      "('this', 'deluge', 'of', 'data', 'calls', 'for', 'automated', 'methods', 'of', 'data', 'analysis', 'which', 'is', 'what', 'machine', 'learning', 'provides', 'in', 'particular', 'we', 'define', 'machine', 'learning', 'as', 'a', 'set', 'of', 'methods', 'that', 'can', 'automatically', 'detect', 'patterns', 'in', 'data', 'and', 'then', 'use', 'the', 'uncovered', 'patterns', 'to', 'predict', 'future', 'data', 'or', 'to', 'perform', 'other', 'kinds', 'of', 'decision', 'making', 'under', 'uncertainty')\n"
     ]
    }
   ],
   "source": [
    "tuple_of_strings = tuple(list_of_strings)\n",
    "print(tuple_of_strings)"
   ]
  },
  {
   "cell_type": "markdown",
   "id": "387a63e5-d518-4569-83b3-ea9dbe71b4ae",
   "metadata": {},
   "source": [
    "Tuples should be used if you want the data to be immutable, not able to be modified after creation. Additionally, tuples are generally faster than lists due to their immutable property"
   ]
  },
  {
   "cell_type": "markdown",
   "id": "97df0910-5968-4136-b648-269197a82120",
   "metadata": {},
   "source": [
    "#### 2e)"
   ]
  },
  {
   "cell_type": "code",
   "execution_count": 15,
   "id": "e408cb97-a4cb-4e40-abcc-00703547995d",
   "metadata": {},
   "outputs": [
    {
     "name": "stdout",
     "output_type": "stream",
     "text": [
      "{'provides', 'automated', 'to', 'detect', 'methods', 'as', 'particular', 'the', 'kinds', 'calls', 'uncertainty', 'predict', 'then', 'making', 'a', 'automatically', 'perform', 'uncovered', 'patterns', 'other', 'set', 'analysis', 'for', 'that', 'in', 'this', 'is', 'we', 'or', 'deluge', 'under', 'machine', 'future', 'decision', 'use', 'define', 'can', 'and', 'which', 'learning', 'of', 'data', 'what'}\n"
     ]
    }
   ],
   "source": [
    "set_of_strings = set(list_of_strings)\n",
    "print(set_of_strings)"
   ]
  },
  {
   "cell_type": "code",
   "execution_count": 18,
   "id": "ace0714f-0577-4617-a24f-ba46f2aa3b28",
   "metadata": {},
   "outputs": [
    {
     "data": {
      "text/plain": [
       "43"
      ]
     },
     "execution_count": 18,
     "metadata": {},
     "output_type": "execute_result"
    }
   ],
   "source": [
    "len(set_of_strings)"
   ]
  },
  {
   "cell_type": "markdown",
   "id": "9ba73435-8585-4972-bca0-39eea2e8a7dd",
   "metadata": {},
   "source": [
    "There are 43 items in the set. Sets differ from lists in that they do not allow duplicates and are unordered."
   ]
  },
  {
   "cell_type": "markdown",
   "id": "36644951-01da-464d-9caf-c261d6be1f84",
   "metadata": {},
   "source": [
    "#### 2f)"
   ]
  },
  {
   "cell_type": "code",
   "execution_count": 21,
   "id": "9698a0ae-73a8-4be1-9618-1e6e1c5bacca",
   "metadata": {},
   "outputs": [
    {
     "name": "stdout",
     "output_type": "stream",
     "text": [
      "Dictionary is:\n",
      "{'this': 1, 'deluge': 1, 'of': 4, 'data': 4, 'calls': 1, 'for': 1, 'automated': 1, 'methods': 2, 'analysis': 1, 'which': 1, 'is': 1, 'what': 1, 'machine': 2, 'learning': 2, 'provides': 1, 'in': 2, 'particular': 1, 'we': 1, 'define': 1, 'as': 1, 'a': 1, 'set': 1, 'that': 1, 'can': 1, 'automatically': 1, 'detect': 1, 'patterns': 2, 'and': 1, 'then': 1, 'use': 1, 'the': 1, 'uncovered': 1, 'to': 2, 'predict': 1, 'future': 1, 'or': 1, 'perform': 1, 'other': 1, 'kinds': 1, 'decision': 1, 'making': 1, 'under': 1, 'uncertainty': 1}\n",
      "\n",
      "Wordcounts = dict_values([1, 1, 4, 4, 1, 1, 1, 2, 1, 1, 1, 1, 2, 2, 1, 2, 1, 1, 1, 1, 1, 1, 1, 1, 1, 1, 2, 1, 1, 1, 1, 1, 2, 1, 1, 1, 1, 1, 1, 1, 1, 1, 1])\n",
      "\n",
      "max word count is 4\n",
      "\"of\" occurs 4 times\n",
      "\"data\" occurs 4 times\n"
     ]
    }
   ],
   "source": [
    "d = {}  #create an empty dictionary\n",
    "for i in list_of_strings:\n",
    "    if i not in d:\n",
    "        d[i]=0\n",
    "    d[i] += 1                      # <====== complete this line\n",
    "\n",
    "print(f'Dictionary is:\\n{d}\\n') # Print dictionary and extra newline\n",
    "\n",
    "v = d.values() # extract word counts\n",
    "print(f'Wordcounts = {v}\\n') # print word counts\n",
    "maxv = max(v) # find largest word count\n",
    "print(f'max word count is {maxv}')\n",
    "for i in d:\n",
    "    if d[i]==maxv:\n",
    "        print(f'\"{i}\" occurs {maxv} times')"
   ]
  },
  {
   "cell_type": "markdown",
   "id": "6f62e1d7-94c9-4d30-ac1b-51d50bb7d41d",
   "metadata": {},
   "source": [
    "#### 2g)"
   ]
  },
  {
   "cell_type": "markdown",
   "id": "fa27ca54-9d9f-494f-ba04-73a2b9a53247",
   "metadata": {},
   "source": [
    "The words \"of\" and \"data\" both appear most frequently, four times each."
   ]
  },
  {
   "cell_type": "markdown",
   "id": "1d71b71e-c600-4fcf-b908-5b72d91d1404",
   "metadata": {},
   "source": [
    "#### 2h)"
   ]
  },
  {
   "cell_type": "code",
   "execution_count": 22,
   "id": "908b44b8-77bc-48ae-9dc3-e0ef595ed5f2",
   "metadata": {},
   "outputs": [
    {
     "name": "stdout",
     "output_type": "stream",
     "text": [
      "The list of tuples is:\n",
      "[('this', 1), ('deluge', 1), ('of', 4), ('data', 4), ('calls', 1), ('for', 1), ('automated', 1), ('methods', 2), ('analysis', 1), ('which', 1), ('is', 1), ('what', 1), ('machine', 2), ('learning', 2), ('provides', 1), ('in', 2), ('particular', 1), ('we', 1), ('define', 1), ('as', 1), ('a', 1), ('set', 1), ('that', 1), ('can', 1), ('automatically', 1), ('detect', 1), ('patterns', 2), ('and', 1), ('then', 1), ('use', 1), ('the', 1), ('uncovered', 1), ('to', 2), ('predict', 1), ('future', 1), ('or', 1), ('perform', 1), ('other', 1), ('kinds', 1), ('decision', 1), ('making', 1), ('under', 1), ('uncertainty', 1)]\n"
     ]
    }
   ],
   "source": [
    "list_of_tuples = [(k,v) for k,v in d.items()]\n",
    "print(f'The list of tuples is:\\n{list_of_tuples}')"
   ]
  },
  {
   "cell_type": "markdown",
   "id": "10d513b8-cfc8-4092-9dac-2b4a12103fe5",
   "metadata": {},
   "source": [
    "***"
   ]
  },
  {
   "cell_type": "markdown",
   "id": "17ba5a7e-960b-449a-93ca-e21267d39248",
   "metadata": {},
   "source": [
    "#### 3a)"
   ]
  },
  {
   "cell_type": "code",
   "execution_count": 28,
   "id": "f44e9789-9092-46a9-a51e-2b0de5393f3d",
   "metadata": {},
   "outputs": [],
   "source": [
    "import numpy as np\n",
    "\n",
    "A_lists = [[1,1,3],[4,4,4],[5,6,9]]"
   ]
  },
  {
   "cell_type": "markdown",
   "id": "8d3c24fa-a27d-4548-8f93-8d74d5c92f79",
   "metadata": {},
   "source": [
    "#### 3b)"
   ]
  },
  {
   "cell_type": "code",
   "execution_count": 29,
   "id": "a9195b85-f2e2-4e55-aa89-583a5508c759",
   "metadata": {},
   "outputs": [
    {
     "name": "stdout",
     "output_type": "stream",
     "text": [
      "[[1 1 3]\n",
      " [4 4 4]\n",
      " [5 6 9]]\n"
     ]
    }
   ],
   "source": [
    "A = np.array(A_lists)\n",
    "print(A)"
   ]
  },
  {
   "cell_type": "markdown",
   "id": "71cc6d8a-f481-4723-a6d9-d2a7c38c838e",
   "metadata": {},
   "source": [
    "#### 3c)"
   ]
  },
  {
   "cell_type": "code",
   "execution_count": 30,
   "id": "4296771a-2e90-4690-b7f5-8a9eb6f15931",
   "metadata": {},
   "outputs": [
    {
     "data": {
      "text/plain": [
       "array([[ 1.5  ,  1.125, -1.   ],\n",
       "       [-2.   , -0.75 ,  1.   ],\n",
       "       [ 0.5  , -0.125,  0.   ]])"
      ]
     },
     "execution_count": 30,
     "metadata": {},
     "output_type": "execute_result"
    }
   ],
   "source": [
    "np.linalg.inv(A)"
   ]
  },
  {
   "cell_type": "markdown",
   "id": "3377733a-dfa1-4846-ba13-260d71744417",
   "metadata": {},
   "source": [
    "#### 3d)"
   ]
  },
  {
   "cell_type": "code",
   "execution_count": 31,
   "id": "bdc810b1-1d6a-4f39-88ed-073929bd16aa",
   "metadata": {},
   "outputs": [
    {
     "name": "stdout",
     "output_type": "stream",
     "text": [
      "[ 0.75 -0.5   0.25]\n"
     ]
    }
   ],
   "source": [
    "b = np.array([1,2,3]).T\n",
    "x = np.linalg.solve(A,b)\n",
    "print(x)"
   ]
  },
  {
   "cell_type": "markdown",
   "id": "ca03ab25-c7d8-4801-b969-1f0e77f14a91",
   "metadata": {},
   "source": [
    "#### 3e)"
   ]
  },
  {
   "cell_type": "code",
   "execution_count": 34,
   "id": "25f0b236-7689-4708-8e64-1178eb7b6082",
   "metadata": {},
   "outputs": [
    {
     "name": "stdout",
     "output_type": "stream",
     "text": [
      "[0.77370137 0.87069852 0.18295491 0.19673671 0.11174357 0.68655445\n",
      " 0.11696048 0.60704489 0.86073736 0.60057064]\n"
     ]
    }
   ],
   "source": [
    "n=10\n",
    "rng = np.random.default_rng()\n",
    "y = rng.random(n)\n",
    "print(y)"
   ]
  },
  {
   "cell_type": "markdown",
   "id": "55ca90ca-d5c3-4102-b677-44da6d62b723",
   "metadata": {},
   "source": [
    "#### 3f)"
   ]
  },
  {
   "cell_type": "code",
   "execution_count": 58,
   "id": "95186c35-ed51-4666-9d14-205ba00b3d00",
   "metadata": {},
   "outputs": [
    {
     "data": {
      "image/png": "[encoded data removed]",
      "text/plain": [
       "<Figure size 640x480 with 1 Axes>"
      ]
     },
     "metadata": {},
     "output_type": "display_data"
    }
   ],
   "source": [
    "import matplotlib.pyplot as plt\n",
    "\n",
    "ns = [10, 10**2, 10**3, 10**4, 10**5, 10**6, 10**7, 10**8]\n",
    "min_vals = [rng.random(n).min() for n in ns]\n",
    "plt.scatter(ns,np.log(min_vals))\n",
    "plt.xlabel('n')\n",
    "plt.ylabel('log(min val)');"
   ]
  },
  {
   "cell_type": "markdown",
   "id": "31d382f9-8c1f-4e85-a8ff-bd913cd90a0c",
   "metadata": {},
   "source": [
    "The results make sense. As you sample more values from a uniform space between 0 and 1, the minimum values of the growing sample will decrease. However, as you continue taking samples, the rate of decrease in the minimum value will decrease, as seen by the logorithmic funtion of the plot."
   ]
  }
 ],
 "metadata": {
  "kernelspec": {
   "display_name": "Python 3 (ipykernel)",
   "language": "python",
   "name": "python3"
  },
  "language_info": {
   "codemirror_mode": {
    "name": "ipython",
    "version": 3
   },
   "file_extension": ".py",
   "mimetype": "text/x-python",
   "name": "python",
   "nbconvert_exporter": "python",
   "pygments_lexer": "ipython3",
   "version": "3.9.7"
  }
 },
 "nbformat": 4,
 "nbformat_minor": 5
}
